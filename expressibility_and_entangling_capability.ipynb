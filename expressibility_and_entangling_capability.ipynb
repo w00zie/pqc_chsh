{
  "nbformat": 4,
  "nbformat_minor": 0,
  "metadata": {
    "colab": {
      "name": "expressibility_and_entangling_capability_updt.ipynb",
      "provenance": []
    },
    "kernelspec": {
      "name": "python3",
      "display_name": "Python 3"
    }
  },
  "cells": [
    {
      "cell_type": "code",
      "metadata": {
        "colab": {
          "base_uri": "https://localhost:8080/"
        },
        "id": "s6A9JMxTHTv7",
        "outputId": "7faae48a-85b5-4e47-c0c4-b92b4d1fd9b9"
      },
      "source": [
        "!pip -q install cirq"
      ],
      "execution_count": 1,
      "outputs": [
        {
          "output_type": "stream",
          "text": [
            "\u001b[?25l\r\u001b[K     |▏                               | 10kB 21.2MB/s eta 0:00:01\r\u001b[K     |▍                               | 20kB 28.3MB/s eta 0:00:01\r\u001b[K     |▋                               | 30kB 20.0MB/s eta 0:00:01\r\u001b[K     |▉                               | 40kB 13.8MB/s eta 0:00:01\r\u001b[K     |█                               | 51kB 15.6MB/s eta 0:00:01\r\u001b[K     |█▎                              | 61kB 17.4MB/s eta 0:00:01\r\u001b[K     |█▌                              | 71kB 12.8MB/s eta 0:00:01\r\u001b[K     |█▊                              | 81kB 13.6MB/s eta 0:00:01\r\u001b[K     |██                              | 92kB 12.0MB/s eta 0:00:01\r\u001b[K     |██▏                             | 102kB 11.8MB/s eta 0:00:01\r\u001b[K     |██▎                             | 112kB 11.8MB/s eta 0:00:01\r\u001b[K     |██▌                             | 122kB 11.8MB/s eta 0:00:01\r\u001b[K     |██▊                             | 133kB 11.8MB/s eta 0:00:01\r\u001b[K     |███                             | 143kB 11.8MB/s eta 0:00:01\r\u001b[K     |███▏                            | 153kB 11.8MB/s eta 0:00:01\r\u001b[K     |███▍                            | 163kB 11.8MB/s eta 0:00:01\r\u001b[K     |███▋                            | 174kB 11.8MB/s eta 0:00:01\r\u001b[K     |███▉                            | 184kB 11.8MB/s eta 0:00:01\r\u001b[K     |████                            | 194kB 11.8MB/s eta 0:00:01\r\u001b[K     |████▎                           | 204kB 11.8MB/s eta 0:00:01\r\u001b[K     |████▍                           | 215kB 11.8MB/s eta 0:00:01\r\u001b[K     |████▋                           | 225kB 11.8MB/s eta 0:00:01\r\u001b[K     |████▉                           | 235kB 11.8MB/s eta 0:00:01\r\u001b[K     |█████                           | 245kB 11.8MB/s eta 0:00:01\r\u001b[K     |█████▎                          | 256kB 11.8MB/s eta 0:00:01\r\u001b[K     |█████▌                          | 266kB 11.8MB/s eta 0:00:01\r\u001b[K     |█████▊                          | 276kB 11.8MB/s eta 0:00:01\r\u001b[K     |██████                          | 286kB 11.8MB/s eta 0:00:01\r\u001b[K     |██████▏                         | 296kB 11.8MB/s eta 0:00:01\r\u001b[K     |██████▍                         | 307kB 11.8MB/s eta 0:00:01\r\u001b[K     |██████▌                         | 317kB 11.8MB/s eta 0:00:01\r\u001b[K     |██████▊                         | 327kB 11.8MB/s eta 0:00:01\r\u001b[K     |███████                         | 337kB 11.8MB/s eta 0:00:01\r\u001b[K     |███████▏                        | 348kB 11.8MB/s eta 0:00:01\r\u001b[K     |███████▍                        | 358kB 11.8MB/s eta 0:00:01\r\u001b[K     |███████▋                        | 368kB 11.8MB/s eta 0:00:01\r\u001b[K     |███████▉                        | 378kB 11.8MB/s eta 0:00:01\r\u001b[K     |████████                        | 389kB 11.8MB/s eta 0:00:01\r\u001b[K     |████████▎                       | 399kB 11.8MB/s eta 0:00:01\r\u001b[K     |████████▌                       | 409kB 11.8MB/s eta 0:00:01\r\u001b[K     |████████▋                       | 419kB 11.8MB/s eta 0:00:01\r\u001b[K     |████████▉                       | 430kB 11.8MB/s eta 0:00:01\r\u001b[K     |█████████                       | 440kB 11.8MB/s eta 0:00:01\r\u001b[K     |█████████▎                      | 450kB 11.8MB/s eta 0:00:01\r\u001b[K     |█████████▌                      | 460kB 11.8MB/s eta 0:00:01\r\u001b[K     |█████████▊                      | 471kB 11.8MB/s eta 0:00:01\r\u001b[K     |██████████                      | 481kB 11.8MB/s eta 0:00:01\r\u001b[K     |██████████▏                     | 491kB 11.8MB/s eta 0:00:01\r\u001b[K     |██████████▍                     | 501kB 11.8MB/s eta 0:00:01\r\u001b[K     |██████████▋                     | 512kB 11.8MB/s eta 0:00:01\r\u001b[K     |██████████▊                     | 522kB 11.8MB/s eta 0:00:01\r\u001b[K     |███████████                     | 532kB 11.8MB/s eta 0:00:01\r\u001b[K     |███████████▏                    | 542kB 11.8MB/s eta 0:00:01\r\u001b[K     |███████████▍                    | 552kB 11.8MB/s eta 0:00:01\r\u001b[K     |███████████▋                    | 563kB 11.8MB/s eta 0:00:01\r\u001b[K     |███████████▉                    | 573kB 11.8MB/s eta 0:00:01\r\u001b[K     |████████████                    | 583kB 11.8MB/s eta 0:00:01\r\u001b[K     |████████████▎                   | 593kB 11.8MB/s eta 0:00:01\r\u001b[K     |████████████▌                   | 604kB 11.8MB/s eta 0:00:01\r\u001b[K     |████████████▊                   | 614kB 11.8MB/s eta 0:00:01\r\u001b[K     |████████████▉                   | 624kB 11.8MB/s eta 0:00:01\r\u001b[K     |█████████████                   | 634kB 11.8MB/s eta 0:00:01\r\u001b[K     |█████████████▎                  | 645kB 11.8MB/s eta 0:00:01\r\u001b[K     |█████████████▌                  | 655kB 11.8MB/s eta 0:00:01\r\u001b[K     |█████████████▊                  | 665kB 11.8MB/s eta 0:00:01\r\u001b[K     |██████████████                  | 675kB 11.8MB/s eta 0:00:01\r\u001b[K     |██████████████▏                 | 686kB 11.8MB/s eta 0:00:01\r\u001b[K     |██████████████▍                 | 696kB 11.8MB/s eta 0:00:01\r\u001b[K     |██████████████▋                 | 706kB 11.8MB/s eta 0:00:01\r\u001b[K     |██████████████▉                 | 716kB 11.8MB/s eta 0:00:01\r\u001b[K     |███████████████                 | 727kB 11.8MB/s eta 0:00:01\r\u001b[K     |███████████████▏                | 737kB 11.8MB/s eta 0:00:01\r\u001b[K     |███████████████▍                | 747kB 11.8MB/s eta 0:00:01\r\u001b[K     |███████████████▋                | 757kB 11.8MB/s eta 0:00:01\r\u001b[K     |███████████████▉                | 768kB 11.8MB/s eta 0:00:01\r\u001b[K     |████████████████                | 778kB 11.8MB/s eta 0:00:01\r\u001b[K     |████████████████▎               | 788kB 11.8MB/s eta 0:00:01\r\u001b[K     |████████████████▌               | 798kB 11.8MB/s eta 0:00:01\r\u001b[K     |████████████████▊               | 808kB 11.8MB/s eta 0:00:01\r\u001b[K     |█████████████████               | 819kB 11.8MB/s eta 0:00:01\r\u001b[K     |█████████████████               | 829kB 11.8MB/s eta 0:00:01\r\u001b[K     |█████████████████▎              | 839kB 11.8MB/s eta 0:00:01\r\u001b[K     |█████████████████▌              | 849kB 11.8MB/s eta 0:00:01\r\u001b[K     |█████████████████▊              | 860kB 11.8MB/s eta 0:00:01\r\u001b[K     |██████████████████              | 870kB 11.8MB/s eta 0:00:01\r\u001b[K     |██████████████████▏             | 880kB 11.8MB/s eta 0:00:01\r\u001b[K     |██████████████████▍             | 890kB 11.8MB/s eta 0:00:01\r\u001b[K     |██████████████████▋             | 901kB 11.8MB/s eta 0:00:01\r\u001b[K     |██████████████████▉             | 911kB 11.8MB/s eta 0:00:01\r\u001b[K     |███████████████████             | 921kB 11.8MB/s eta 0:00:01\r\u001b[K     |███████████████████▏            | 931kB 11.8MB/s eta 0:00:01\r\u001b[K     |███████████████████▍            | 942kB 11.8MB/s eta 0:00:01\r\u001b[K     |███████████████████▋            | 952kB 11.8MB/s eta 0:00:01\r\u001b[K     |███████████████████▉            | 962kB 11.8MB/s eta 0:00:01\r\u001b[K     |████████████████████            | 972kB 11.8MB/s eta 0:00:01\r\u001b[K     |████████████████████▎           | 983kB 11.8MB/s eta 0:00:01\r\u001b[K     |████████████████████▌           | 993kB 11.8MB/s eta 0:00:01\r\u001b[K     |████████████████████▊           | 1.0MB 11.8MB/s eta 0:00:01\r\u001b[K     |█████████████████████           | 1.0MB 11.8MB/s eta 0:00:01\r\u001b[K     |█████████████████████▏          | 1.0MB 11.8MB/s eta 0:00:01\r\u001b[K     |█████████████████████▎          | 1.0MB 11.8MB/s eta 0:00:01\r\u001b[K     |█████████████████████▌          | 1.0MB 11.8MB/s eta 0:00:01\r\u001b[K     |█████████████████████▊          | 1.1MB 11.8MB/s eta 0:00:01\r\u001b[K     |██████████████████████          | 1.1MB 11.8MB/s eta 0:00:01\r\u001b[K     |██████████████████████▏         | 1.1MB 11.8MB/s eta 0:00:01\r\u001b[K     |██████████████████████▍         | 1.1MB 11.8MB/s eta 0:00:01\r\u001b[K     |██████████████████████▋         | 1.1MB 11.8MB/s eta 0:00:01\r\u001b[K     |██████████████████████▉         | 1.1MB 11.8MB/s eta 0:00:01\r\u001b[K     |███████████████████████         | 1.1MB 11.8MB/s eta 0:00:01\r\u001b[K     |███████████████████████▎        | 1.1MB 11.8MB/s eta 0:00:01\r\u001b[K     |███████████████████████▍        | 1.1MB 11.8MB/s eta 0:00:01\r\u001b[K     |███████████████████████▋        | 1.1MB 11.8MB/s eta 0:00:01\r\u001b[K     |███████████████████████▉        | 1.2MB 11.8MB/s eta 0:00:01\r\u001b[K     |████████████████████████        | 1.2MB 11.8MB/s eta 0:00:01\r\u001b[K     |████████████████████████▎       | 1.2MB 11.8MB/s eta 0:00:01\r\u001b[K     |████████████████████████▌       | 1.2MB 11.8MB/s eta 0:00:01\r\u001b[K     |████████████████████████▊       | 1.2MB 11.8MB/s eta 0:00:01\r\u001b[K     |█████████████████████████       | 1.2MB 11.8MB/s eta 0:00:01\r\u001b[K     |█████████████████████████▏      | 1.2MB 11.8MB/s eta 0:00:01\r\u001b[K     |█████████████████████████▍      | 1.2MB 11.8MB/s eta 0:00:01\r\u001b[K     |█████████████████████████▌      | 1.2MB 11.8MB/s eta 0:00:01\r\u001b[K     |█████████████████████████▊      | 1.2MB 11.8MB/s eta 0:00:01\r\u001b[K     |██████████████████████████      | 1.3MB 11.8MB/s eta 0:00:01\r\u001b[K     |██████████████████████████▏     | 1.3MB 11.8MB/s eta 0:00:01\r\u001b[K     |██████████████████████████▍     | 1.3MB 11.8MB/s eta 0:00:01\r\u001b[K     |██████████████████████████▋     | 1.3MB 11.8MB/s eta 0:00:01\r\u001b[K     |██████████████████████████▉     | 1.3MB 11.8MB/s eta 0:00:01\r\u001b[K     |███████████████████████████     | 1.3MB 11.8MB/s eta 0:00:01\r\u001b[K     |███████████████████████████▎    | 1.3MB 11.8MB/s eta 0:00:01\r\u001b[K     |███████████████████████████▌    | 1.3MB 11.8MB/s eta 0:00:01\r\u001b[K     |███████████████████████████▋    | 1.3MB 11.8MB/s eta 0:00:01\r\u001b[K     |███████████████████████████▉    | 1.4MB 11.8MB/s eta 0:00:01\r\u001b[K     |████████████████████████████    | 1.4MB 11.8MB/s eta 0:00:01\r\u001b[K     |████████████████████████████▎   | 1.4MB 11.8MB/s eta 0:00:01\r\u001b[K     |████████████████████████████▌   | 1.4MB 11.8MB/s eta 0:00:01\r\u001b[K     |████████████████████████████▊   | 1.4MB 11.8MB/s eta 0:00:01\r\u001b[K     |█████████████████████████████   | 1.4MB 11.8MB/s eta 0:00:01\r\u001b[K     |█████████████████████████████▏  | 1.4MB 11.8MB/s eta 0:00:01\r\u001b[K     |█████████████████████████████▍  | 1.4MB 11.8MB/s eta 0:00:01\r\u001b[K     |█████████████████████████████▋  | 1.4MB 11.8MB/s eta 0:00:01\r\u001b[K     |█████████████████████████████▊  | 1.4MB 11.8MB/s eta 0:00:01\r\u001b[K     |██████████████████████████████  | 1.5MB 11.8MB/s eta 0:00:01\r\u001b[K     |██████████████████████████████▏ | 1.5MB 11.8MB/s eta 0:00:01\r\u001b[K     |██████████████████████████████▍ | 1.5MB 11.8MB/s eta 0:00:01\r\u001b[K     |██████████████████████████████▋ | 1.5MB 11.8MB/s eta 0:00:01\r\u001b[K     |██████████████████████████████▉ | 1.5MB 11.8MB/s eta 0:00:01\r\u001b[K     |███████████████████████████████ | 1.5MB 11.8MB/s eta 0:00:01\r\u001b[K     |███████████████████████████████▎| 1.5MB 11.8MB/s eta 0:00:01\r\u001b[K     |███████████████████████████████▌| 1.5MB 11.8MB/s eta 0:00:01\r\u001b[K     |███████████████████████████████▊| 1.5MB 11.8MB/s eta 0:00:01\r\u001b[K     |███████████████████████████████▉| 1.5MB 11.8MB/s eta 0:00:01\r\u001b[K     |████████████████████████████████| 1.6MB 11.8MB/s \n",
            "\u001b[?25h"
          ],
          "name": "stdout"
        }
      ]
    },
    {
      "cell_type": "code",
      "metadata": {
        "id": "XDkVYoGiITU4"
      },
      "source": [
        "import cirq\n",
        "import numpy as np\n",
        "from numpy.random import uniform\n",
        "from matplotlib import pyplot as plt "
      ],
      "execution_count": 2,
      "outputs": []
    },
    {
      "cell_type": "code",
      "metadata": {
        "id": "lshKhkPUHXWe"
      },
      "source": [
        "def build_vqc(qubits, symbols):\n",
        "    (a, b) = qubits\n",
        "    circ = cirq.Circuit()\n",
        "    circ.append([cirq.H(b), cirq.H(a)], strategy=cirq.InsertStrategy.NEW_THEN_INLINE)\n",
        "    circ.append([cirq.rz(symbols[0])(a), cirq.rz(symbols[1])(b)], \n",
        "                strategy=cirq.InsertStrategy.NEW_THEN_INLINE)\n",
        "    circ.append([cirq.rx(symbols[2])(a), cirq.rx(symbols[3])(b)])\n",
        "    circ.append([cirq.CX(b, a)**symbols[4]])\n",
        "    return circ\n",
        "\n",
        "\n",
        "def build_vqc_no_ent(qubits, symbols):\n",
        "    (a, b) = qubits\n",
        "    circ = cirq.Circuit()\n",
        "    # Layer 1\n",
        "    circ.append([cirq.H(a), cirq.H(b)], strategy=cirq.InsertStrategy.NEW_THEN_INLINE)\n",
        "    circ.append([cirq.rz(symbols[0])(a), \n",
        "                 cirq.rz(symbols[1])(b)])\n",
        "    circ.append([cirq.rx(symbols[2])(a), \n",
        "                 cirq.rx(symbols[3])(b)])\n",
        "    # Layer 2\n",
        "    circ.append([cirq.H(a), cirq.H(b)], strategy=cirq.InsertStrategy.NEW_THEN_INLINE)\n",
        "    circ.append([cirq.rz(symbols[4])(a), \n",
        "                 cirq.rz(symbols[5])(b)])\n",
        "    circ.append([cirq.rx(symbols[6])(a), \n",
        "                 cirq.rx(symbols[7])(b)])\n",
        "    # Layer 3\n",
        "    circ.append([cirq.H(a), cirq.H(b)], strategy=cirq.InsertStrategy.NEW_THEN_INLINE)\n",
        "    circ.append([cirq.rz(symbols[8])(a), \n",
        "                 cirq.rz(symbols[9])(b)])\n",
        "    circ.append([cirq.rx(symbols[10])(a), \n",
        "                 cirq.rx(symbols[11])(b)])\n",
        "    return circ\n",
        "\n",
        "\n",
        "def trace_b(dens_mat):\n",
        "    return np.asarray([\n",
        "                       [dens_mat[0][0] + dens_mat[1][1], dens_mat[0][2] + dens_mat[1][3]],\n",
        "                       [dens_mat[2][0] + dens_mat[3][1], dens_mat[2][2] + dens_mat[3][3]]\n",
        "                      ]).reshape((2,2))\n",
        "\n",
        "def trace_a(dens_mat):\n",
        "    return np.asarray([\n",
        "                       [dens_mat[0][0] + dens_mat[2][2], dens_mat[0][1] + dens_mat[2][3]],\n",
        "                       [dens_mat[1][0] + dens_mat[3][2], dens_mat[1][1] + dens_mat[3][3]]\n",
        "                      ]).reshape((2,2))\n",
        "\n",
        "\n",
        "def calc_ent(vector):\n",
        "    dens_mat = cirq.density_matrix_from_state_vector(state_vector=vector)\n",
        "    avg = []\n",
        "    p_a = trace_b(dens_mat)\n",
        "    avg.append(1 - np.matrix.trace(np.linalg.matrix_power(p_a, 2)))\n",
        "    p_b = trace_a(dens_mat)\n",
        "    avg.append(1 - np.matrix.trace(np.linalg.matrix_power(p_b, 2)))\n",
        "    return np.sum(avg)\n",
        "\n",
        "\n",
        "def kl_divergence(p, q):\n",
        "    return np.sum(np.where(p != 0, p * np.log(p / q), 0))"
      ],
      "execution_count": 3,
      "outputs": []
    },
    {
      "cell_type": "markdown",
      "metadata": {
        "id": "cTG7LKDw8_fc"
      },
      "source": [
        "### Display circuits"
      ]
    },
    {
      "cell_type": "code",
      "metadata": {
        "colab": {
          "base_uri": "https://localhost:8080/",
          "height": 139
        },
        "id": "CDyOxqpE9B5C",
        "outputId": "bd5bc54e-9b2e-469e-bacd-2989bd700880"
      },
      "source": [
        "from cirq.contrib.svg import SVGCircuit\n",
        "\n",
        "a, b = cirq.GridQubit.rect(1, 2)\n",
        "qubits = (a, b)\n",
        "s = cirq.Simulator()\n",
        "NUM_TRIALS = 5000\n",
        "\n",
        "angles = uniform(0, 2 * np.pi, size=4)\n",
        "pows = uniform(-2, 2, size=1)\n",
        "values_1 = np.concatenate((angles, pows))\n",
        "circuit_ent = build_vqc(qubits, values_1)\n",
        "SVGCircuit(circuit_ent)\n"
      ],
      "execution_count": 5,
      "outputs": [
        {
          "output_type": "stream",
          "text": [
            "findfont: Font family ['Arial'] not found. Falling back to DejaVu Sans.\n"
          ],
          "name": "stderr"
        },
        {
          "output_type": "execute_result",
          "data": {
            "text/plain": [
              "<cirq.contrib.svg.svg.SVGCircuit at 0x7f05d9cbe950>"
            ],
            "image/svg+xml": "<svg xmlns=\"http://www.w3.org/2000/svg\" width=\"463.51085937500005\" height=\"100.0\"><line x1=\"34.7588671875\" x2=\"433.51085937500005\" y1=\"25.0\" y2=\"25.0\" stroke=\"#1967d2\" stroke-width=\"1\" /><line x1=\"34.7588671875\" x2=\"433.51085937500005\" y1=\"75.0\" y2=\"75.0\" stroke=\"#1967d2\" stroke-width=\"1\" /><line x1=\"376.46015625\" x2=\"376.46015625\" y1=\"25.0\" y2=\"75.0\" stroke=\"black\" stroke-width=\"3\" /><rect x=\"10.0\" y=\"5.0\" width=\"49.517734375\" height=\"40\" stroke=\"black\" fill=\"white\" stroke-width=\"0\" /><text x=\"34.7588671875\" y=\"25.0\" dominant-baseline=\"middle\" text-anchor=\"middle\" font-size=\"14px\" font-family=\"Arial\">(0, 0): </text><rect x=\"10.0\" y=\"55.0\" width=\"49.517734375\" height=\"40\" stroke=\"black\" fill=\"white\" stroke-width=\"0\" /><text x=\"34.7588671875\" y=\"75.0\" dominant-baseline=\"middle\" text-anchor=\"middle\" font-size=\"14px\" font-family=\"Arial\">(0, 1): </text><rect x=\"79.517734375\" y=\"55.0\" width=\"40\" height=\"40\" stroke=\"black\" fill=\"white\" stroke-width=\"1\" /><text x=\"99.517734375\" y=\"75.0\" dominant-baseline=\"middle\" text-anchor=\"middle\" font-size=\"18px\" font-family=\"Arial\">H</text><rect x=\"79.517734375\" y=\"5.0\" width=\"40\" height=\"40\" stroke=\"black\" fill=\"white\" stroke-width=\"1\" /><text x=\"99.517734375\" y=\"25.0\" dominant-baseline=\"middle\" text-anchor=\"middle\" font-size=\"18px\" font-family=\"Arial\">H</text><rect x=\"139.517734375\" y=\"5.0\" width=\"83.93121093750001\" height=\"40\" stroke=\"black\" fill=\"white\" stroke-width=\"1\" /><text x=\"181.48333984375\" y=\"25.0\" dominant-baseline=\"middle\" text-anchor=\"middle\" font-size=\"14px\" font-family=\"Arial\">Rz(0.999π)</text><rect x=\"139.517734375\" y=\"55.0\" width=\"83.93121093750001\" height=\"40\" stroke=\"black\" fill=\"white\" stroke-width=\"1\" /><text x=\"181.48333984375\" y=\"75.0\" dominant-baseline=\"middle\" text-anchor=\"middle\" font-size=\"14px\" font-family=\"Arial\">Rz(0.061π)</text><rect x=\"243.44894531250006\" y=\"5.0\" width=\"75.96050781250001\" height=\"40\" stroke=\"black\" fill=\"white\" stroke-width=\"1\" /><text x=\"281.42919921875006\" y=\"25.0\" dominant-baseline=\"middle\" text-anchor=\"middle\" font-size=\"14px\" font-family=\"Arial\">Rx(1.56π)</text><rect x=\"243.44894531250006\" y=\"55.0\" width=\"75.96050781250001\" height=\"40\" stroke=\"black\" fill=\"white\" stroke-width=\"1\" /><text x=\"281.42919921875006\" y=\"75.0\" dominant-baseline=\"middle\" text-anchor=\"middle\" font-size=\"14px\" font-family=\"Arial\">Rx(1.24π)</text><rect x=\"339.409453125\" y=\"55.0\" width=\"74.10140625000001\" height=\"40\" stroke=\"black\" fill=\"white\" stroke-width=\"1\" /><text x=\"376.46015625\" y=\"75.0\" dominant-baseline=\"middle\" text-anchor=\"middle\" font-size=\"14px\" font-family=\"Arial\">@^0.124</text><rect x=\"339.409453125\" y=\"5.0\" width=\"74.10140625000001\" height=\"40\" stroke=\"black\" fill=\"white\" stroke-width=\"1\" /><text x=\"376.46015625\" y=\"25.0\" dominant-baseline=\"middle\" text-anchor=\"middle\" font-size=\"18px\" font-family=\"Arial\">X</text></svg>"
          },
          "metadata": {
            "tags": []
          },
          "execution_count": 5
        }
      ]
    },
    {
      "cell_type": "code",
      "metadata": {
        "colab": {
          "base_uri": "https://localhost:8080/",
          "height": 121
        },
        "id": "RUrTOG1X9n9W",
        "outputId": "0f5a7fc5-be54-4627-b0df-ce4864962dea"
      },
      "source": [
        "values = uniform(0, 2 * np.pi, size=12)\n",
        "circuit_no_ent = build_vqc_no_ent(qubits, values)\n",
        "SVGCircuit(circuit_no_ent)"
      ],
      "execution_count": 6,
      "outputs": [
        {
          "output_type": "execute_result",
          "data": {
            "text/plain": [
              "<cirq.contrib.svg.svg.SVGCircuit at 0x7f05d9ccdd90>"
            ],
            "image/svg+xml": "<svg xmlns=\"http://www.w3.org/2000/svg\" width=\"898.1001171875001\" height=\"100.0\"><line x1=\"34.7588671875\" x2=\"868.1001171875001\" y1=\"25.0\" y2=\"25.0\" stroke=\"#1967d2\" stroke-width=\"1\" /><line x1=\"34.7588671875\" x2=\"868.1001171875001\" y1=\"75.0\" y2=\"75.0\" stroke=\"#1967d2\" stroke-width=\"1\" /><rect x=\"10.0\" y=\"5.0\" width=\"49.517734375\" height=\"40\" stroke=\"black\" fill=\"white\" stroke-width=\"0\" /><text x=\"34.7588671875\" y=\"25.0\" dominant-baseline=\"middle\" text-anchor=\"middle\" font-size=\"14px\" font-family=\"Arial\">(0, 0): </text><rect x=\"10.0\" y=\"55.0\" width=\"49.517734375\" height=\"40\" stroke=\"black\" fill=\"white\" stroke-width=\"0\" /><text x=\"34.7588671875\" y=\"75.0\" dominant-baseline=\"middle\" text-anchor=\"middle\" font-size=\"14px\" font-family=\"Arial\">(0, 1): </text><rect x=\"79.517734375\" y=\"5.0\" width=\"40\" height=\"40\" stroke=\"black\" fill=\"white\" stroke-width=\"1\" /><text x=\"99.517734375\" y=\"25.0\" dominant-baseline=\"middle\" text-anchor=\"middle\" font-size=\"18px\" font-family=\"Arial\">H</text><rect x=\"79.517734375\" y=\"55.0\" width=\"40\" height=\"40\" stroke=\"black\" fill=\"white\" stroke-width=\"1\" /><text x=\"99.517734375\" y=\"75.0\" dominant-baseline=\"middle\" text-anchor=\"middle\" font-size=\"18px\" font-family=\"Arial\">H</text><rect x=\"139.517734375\" y=\"5.0\" width=\"83.93121093750001\" height=\"40\" stroke=\"black\" fill=\"white\" stroke-width=\"1\" /><text x=\"181.48333984375\" y=\"25.0\" dominant-baseline=\"middle\" text-anchor=\"middle\" font-size=\"14px\" font-family=\"Arial\">Rz(0.338π)</text><rect x=\"139.517734375\" y=\"55.0\" width=\"83.93121093750001\" height=\"40\" stroke=\"black\" fill=\"white\" stroke-width=\"1\" /><text x=\"181.48333984375\" y=\"75.0\" dominant-baseline=\"middle\" text-anchor=\"middle\" font-size=\"14px\" font-family=\"Arial\">Rz(0.982π)</text><rect x=\"243.44894531250006\" y=\"5.0\" width=\"84.86773437500001\" height=\"40\" stroke=\"black\" fill=\"white\" stroke-width=\"1\" /><text x=\"285.88281250000006\" y=\"25.0\" dominant-baseline=\"middle\" text-anchor=\"middle\" font-size=\"14px\" font-family=\"Arial\">Rx(0.235π)</text><rect x=\"243.44894531250006\" y=\"55.0\" width=\"84.86773437500001\" height=\"40\" stroke=\"black\" fill=\"white\" stroke-width=\"1\" /><text x=\"285.88281250000006\" y=\"75.0\" dominant-baseline=\"middle\" text-anchor=\"middle\" font-size=\"14px\" font-family=\"Arial\">Rx(1.19π)</text><rect x=\"348.3166796875\" y=\"5.0\" width=\"40\" height=\"40\" stroke=\"black\" fill=\"white\" stroke-width=\"1\" /><text x=\"368.3166796875\" y=\"25.0\" dominant-baseline=\"middle\" text-anchor=\"middle\" font-size=\"18px\" font-family=\"Arial\">H</text><rect x=\"348.3166796875\" y=\"55.0\" width=\"40\" height=\"40\" stroke=\"black\" fill=\"white\" stroke-width=\"1\" /><text x=\"368.3166796875\" y=\"75.0\" dominant-baseline=\"middle\" text-anchor=\"middle\" font-size=\"18px\" font-family=\"Arial\">H</text><rect x=\"408.3166796875\" y=\"5.0\" width=\"75.02398437500001\" height=\"40\" stroke=\"black\" fill=\"white\" stroke-width=\"1\" /><text x=\"445.82867187500005\" y=\"25.0\" dominant-baseline=\"middle\" text-anchor=\"middle\" font-size=\"14px\" font-family=\"Arial\">Rz(1.99π)</text><rect x=\"408.3166796875\" y=\"55.0\" width=\"75.02398437500001\" height=\"40\" stroke=\"black\" fill=\"white\" stroke-width=\"1\" /><text x=\"445.82867187500005\" y=\"75.0\" dominant-baseline=\"middle\" text-anchor=\"middle\" font-size=\"14px\" font-family=\"Arial\">Rz(1.62π)</text><rect x=\"503.34066406249997\" y=\"5.0\" width=\"84.86773437500001\" height=\"40\" stroke=\"black\" fill=\"white\" stroke-width=\"1\" /><text x=\"545.77453125\" y=\"25.0\" dominant-baseline=\"middle\" text-anchor=\"middle\" font-size=\"14px\" font-family=\"Arial\">Rx(1.01π)</text><rect x=\"503.34066406249997\" y=\"55.0\" width=\"84.86773437500001\" height=\"40\" stroke=\"black\" fill=\"white\" stroke-width=\"1\" /><text x=\"545.77453125\" y=\"75.0\" dominant-baseline=\"middle\" text-anchor=\"middle\" font-size=\"14px\" font-family=\"Arial\">Rx(0.919π)</text><rect x=\"608.2083984375\" y=\"5.0\" width=\"40\" height=\"40\" stroke=\"black\" fill=\"white\" stroke-width=\"1\" /><text x=\"628.2083984375\" y=\"25.0\" dominant-baseline=\"middle\" text-anchor=\"middle\" font-size=\"18px\" font-family=\"Arial\">H</text><rect x=\"608.2083984375\" y=\"55.0\" width=\"40\" height=\"40\" stroke=\"black\" fill=\"white\" stroke-width=\"1\" /><text x=\"628.2083984375\" y=\"75.0\" dominant-baseline=\"middle\" text-anchor=\"middle\" font-size=\"18px\" font-family=\"Arial\">H</text><rect x=\"668.2083984375\" y=\"5.0\" width=\"75.02398437500001\" height=\"40\" stroke=\"black\" fill=\"white\" stroke-width=\"1\" /><text x=\"705.720390625\" y=\"25.0\" dominant-baseline=\"middle\" text-anchor=\"middle\" font-size=\"14px\" font-family=\"Arial\">Rz(1.53π)</text><rect x=\"668.2083984375\" y=\"55.0\" width=\"75.02398437500001\" height=\"40\" stroke=\"black\" fill=\"white\" stroke-width=\"1\" /><text x=\"705.720390625\" y=\"75.0\" dominant-baseline=\"middle\" text-anchor=\"middle\" font-size=\"14px\" font-family=\"Arial\">Rz(1.31π)</text><rect x=\"763.2323828125001\" y=\"5.0\" width=\"84.86773437500001\" height=\"40\" stroke=\"black\" fill=\"white\" stroke-width=\"1\" /><text x=\"805.6662500000001\" y=\"25.0\" dominant-baseline=\"middle\" text-anchor=\"middle\" font-size=\"14px\" font-family=\"Arial\">Rx(0.991π)</text><rect x=\"763.2323828125001\" y=\"55.0\" width=\"84.86773437500001\" height=\"40\" stroke=\"black\" fill=\"white\" stroke-width=\"1\" /><text x=\"805.6662500000001\" y=\"75.0\" dominant-baseline=\"middle\" text-anchor=\"middle\" font-size=\"14px\" font-family=\"Arial\">Rx(1.68π)</text></svg>"
          },
          "metadata": {
            "tags": []
          },
          "execution_count": 6
        }
      ]
    },
    {
      "cell_type": "markdown",
      "metadata": {
        "id": "efGkj9Tm5pdf"
      },
      "source": [
        "### Entangling circuit"
      ]
    },
    {
      "cell_type": "code",
      "metadata": {
        "colab": {
          "base_uri": "https://localhost:8080/",
          "height": 614
        },
        "id": "cD2bIh9BIQ4d",
        "outputId": "a213cc49-5784-43d6-f94e-8bfe0d3621ea"
      },
      "source": [
        "a, b = cirq.GridQubit.rect(1, 2)\n",
        "qubits = (a, b)\n",
        "s = cirq.Simulator()\n",
        "NUM_TRIALS = 5000\n",
        "FIDELITIES = []\n",
        "ENT = []\n",
        "\n",
        "for t in range(NUM_TRIALS):\n",
        "    angles_1 = uniform(0, 2 * np.pi, size=4)\n",
        "    pows_1 = uniform(-2, 2, size=1)\n",
        "    values_1 = np.concatenate((angles_1, pows_1))\n",
        "    circuit_1 = build_vqc(qubits, values_1)\n",
        "    fin_vec_1 = s.simulate(circuit_1).final_state_vector\n",
        "\n",
        "    angles_2 = uniform(0, 2 * np.pi, size=4)\n",
        "    pows_2 = uniform(-2, 2, size=1)\n",
        "    values_2 = np.concatenate((angles_2, pows_2))\n",
        "    circuit_2 = build_vqc(qubits, values_2)\n",
        "    fin_vec_2 = s.simulate(circuit_2).final_state_vector\n",
        "\n",
        "    fid = cirq.fidelity(fin_vec_1, fin_vec_2)\n",
        "    FIDELITIES.append(fid)\n",
        "\n",
        "    ENT.append(calc_ent(fin_vec_1))\n",
        "    ENT.append(calc_ent(fin_vec_2))\n",
        "\n",
        "### Histogram of fidelities\n",
        "\n",
        "n, bins, _ = plt.hist(FIDELITIES, bins=np.linspace(0, 1, num=100)) \n",
        "plt.title(\"fidelities\") \n",
        "plt.show()\n",
        "\n",
        "### Normalize and compare to theoretical\n",
        "\n",
        "bin_centers = np.array([(bins[i] + bins[i+1])/2 for i in range(len(bins) - 1)])\n",
        "haar = 3 * (1 - bin_centers)**2\n",
        "\n",
        "norm_n = n / np.sum(n)\n",
        "norm_haar = haar / np.sum(haar)\n",
        "\n",
        "kl = kl_divergence(norm_n, norm_haar)\n",
        "\n",
        "plt.title(f\"KL = {round(kl, 3)}\")\n",
        "plt.bar(bin_centers, n / np.sum(n), width=0.011)\n",
        "plt.plot(bin_centers, haar / np.sum(haar), c='r')\n",
        "\n",
        "plt.show()\n",
        "\n",
        "### Calculate entangling capability\n",
        "\n",
        "avg_ent_cap = np.mean(ENT)\n",
        "print(f\"\\n\\n\\nAverage entangling capability = {round(avg_ent_cap.real, 3)}\")"
      ],
      "execution_count": 7,
      "outputs": [
        {
          "output_type": "display_data",
          "data": {
            "image/png": "[encoded data removed]",
            "text/plain": [
              "<Figure size 432x288 with 1 Axes>"
            ]
          },
          "metadata": {
            "tags": [],
            "needs_background": "light"
          }
        },
        {
          "output_type": "display_data",
          "data": {
            "image/png": "[encoded data removed]",
            "text/plain": [
              "<Figure size 432x288 with 1 Axes>"
            ]
          },
          "metadata": {
            "tags": [],
            "needs_background": "light"
          }
        },
        {
          "output_type": "stream",
          "text": [
            "\n",
            "\n",
            "\n",
            "Average entangling capability = 0.187\n"
          ],
          "name": "stdout"
        }
      ]
    },
    {
      "cell_type": "markdown",
      "metadata": {
        "id": "iJWOFIpW6Zle"
      },
      "source": [
        "### Non-entangling circuit"
      ]
    },
    {
      "cell_type": "code",
      "metadata": {
        "colab": {
          "base_uri": "https://localhost:8080/",
          "height": 649
        },
        "id": "C0HOIWFkRbOL",
        "outputId": "83d1a619-7264-4583-ee25-0d2daf654695"
      },
      "source": [
        "a, b = cirq.GridQubit.rect(1, 2)\n",
        "qubits = (a, b)\n",
        "s = cirq.Simulator()\n",
        "NUM_TRIALS = 5000\n",
        "FIDELITIES = []\n",
        "ENT = []\n",
        "\n",
        "for t in range(NUM_TRIALS):\n",
        "    angles_1 = uniform(0, 2 * np.pi, size=12)\n",
        "    circuit_1 = build_vqc_no_ent(qubits, angles_1)\n",
        "    fin_vec_1 = s.simulate(circuit_1).final_state_vector\n",
        "\n",
        "    angles_2 = uniform(0, 2 * np.pi, size=12)\n",
        "    circuit_2 = build_vqc_no_ent(qubits, angles_2)\n",
        "    fin_vec_2 = s.simulate(circuit_2).final_state_vector\n",
        "\n",
        "    fid = cirq.fidelity(fin_vec_1, fin_vec_2)\n",
        "    FIDELITIES.append(fid)\n",
        "\n",
        "    ENT.append(calc_ent(fin_vec_1))\n",
        "    ENT.append(calc_ent(fin_vec_2))\n",
        "\n",
        "### Histogram of fidelities\n",
        "\n",
        "n, bins, _ = plt.hist(FIDELITIES, bins=np.linspace(0, 1, num=100)) \n",
        "plt.title(\"fidelities\") \n",
        "plt.show()\n",
        "\n",
        "### Normalize and compare to theoretical\n",
        "\n",
        "bin_centers = np.array([(bins[i] + bins[i+1])/2 for i in range(len(bins) - 1)])\n",
        "haar = 3 * (1 - bin_centers)**2\n",
        "\n",
        "norm_n = n / np.sum(n)\n",
        "norm_haar = haar / np.sum(haar)\n",
        "\n",
        "kl = kl_divergence(norm_n, norm_haar)\n",
        "\n",
        "plt.title(f\"KL = {round(kl, 3)}\")\n",
        "plt.bar(bin_centers, n / np.sum(n), width=0.011, color='g')\n",
        "plt.plot(bin_centers, haar / np.sum(haar), c='r')\n",
        "\n",
        "plt.show()\n",
        "\n",
        "### Calculate entangling capability\n",
        "\n",
        "avg_ent_cap = np.mean(ENT)\n",
        "print(f\"\\n\\n\\nAverage entangling capability = {round(avg_ent_cap.real, 3)}\")"
      ],
      "execution_count": 8,
      "outputs": [
        {
          "output_type": "display_data",
          "data": {
            "image/png": "[encoded data removed]",
            "text/plain": [
              "<Figure size 432x288 with 1 Axes>"
            ]
          },
          "metadata": {
            "tags": [],
            "needs_background": "light"
          }
        },
        {
          "output_type": "stream",
          "text": [
            "/usr/local/lib/python3.7/dist-packages/ipykernel_launcher.py:60: RuntimeWarning: divide by zero encountered in log\n",
            "/usr/local/lib/python3.7/dist-packages/ipykernel_launcher.py:60: RuntimeWarning: invalid value encountered in multiply\n"
          ],
          "name": "stderr"
        },
        {
          "output_type": "display_data",
          "data": {
            "image/png": "[encoded data removed]",
            "text/plain": [
              "<Figure size 432x288 with 1 Axes>"
            ]
          },
          "metadata": {
            "tags": [],
            "needs_background": "light"
          }
        },
        {
          "output_type": "stream",
          "text": [
            "\n",
            "\n",
            "\n",
            "Average entangling capability = 0.0\n"
          ],
          "name": "stdout"
        }
      ]
    },
    {
      "cell_type": "code",
      "metadata": {
        "id": "MwKA-S1D66W4"
      },
      "source": [
        ""
      ],
      "execution_count": null,
      "outputs": []
    }
  ]
}