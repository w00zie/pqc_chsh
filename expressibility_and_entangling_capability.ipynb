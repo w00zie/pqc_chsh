{
  "nbformat": 4,
  "nbformat_minor": 0,
  "metadata": {
    "colab": {
      "name": "expressibility_and_entangling_capability.ipynb",
      "provenance": []
    },
    "kernelspec": {
      "name": "python3",
      "display_name": "Python 3"
    }
  },
  "cells": [
    {
      "cell_type": "code",
      "metadata": {
        "colab": {
          "base_uri": "https://localhost:8080/"
        },
        "id": "s6A9JMxTHTv7",
        "outputId": "f02a8491-1e85-42cd-ccb6-c69a2a63e1ad"
      },
      "source": [
        "!pip -q install cirq"
      ],
      "execution_count": null,
      "outputs": [
        {
          "output_type": "stream",
          "text": [
            "\u001b[?25l\r\u001b[K     |▏                               | 10kB 13.6MB/s eta 0:00:01\r\u001b[K     |▍                               | 20kB 18.7MB/s eta 0:00:01\r\u001b[K     |▋                               | 30kB 10.7MB/s eta 0:00:01\r\u001b[K     |▉                               | 40kB 8.9MB/s eta 0:00:01\r\u001b[K     |█                               | 51kB 5.8MB/s eta 0:00:01\r\u001b[K     |█▎                              | 61kB 6.4MB/s eta 0:00:01\r\u001b[K     |█▌                              | 71kB 6.0MB/s eta 0:00:01\r\u001b[K     |█▊                              | 81kB 6.7MB/s eta 0:00:01\r\u001b[K     |██                              | 92kB 6.4MB/s eta 0:00:01\r\u001b[K     |██▏                             | 102kB 5.4MB/s eta 0:00:01\r\u001b[K     |██▎                             | 112kB 5.4MB/s eta 0:00:01\r\u001b[K     |██▌                             | 122kB 5.4MB/s eta 0:00:01\r\u001b[K     |██▊                             | 133kB 5.4MB/s eta 0:00:01\r\u001b[K     |███                             | 143kB 5.4MB/s eta 0:00:01\r\u001b[K     |███▏                            | 153kB 5.4MB/s eta 0:00:01\r\u001b[K     |███▍                            | 163kB 5.4MB/s eta 0:00:01\r\u001b[K     |███▋                            | 174kB 5.4MB/s eta 0:00:01\r\u001b[K     |███▉                            | 184kB 5.4MB/s eta 0:00:01\r\u001b[K     |████                            | 194kB 5.4MB/s eta 0:00:01\r\u001b[K     |████▎                           | 204kB 5.4MB/s eta 0:00:01\r\u001b[K     |████▍                           | 215kB 5.4MB/s eta 0:00:01\r\u001b[K     |████▋                           | 225kB 5.4MB/s eta 0:00:01\r\u001b[K     |████▉                           | 235kB 5.4MB/s eta 0:00:01\r\u001b[K     |█████                           | 245kB 5.4MB/s eta 0:00:01\r\u001b[K     |█████▎                          | 256kB 5.4MB/s eta 0:00:01\r\u001b[K     |█████▌                          | 266kB 5.4MB/s eta 0:00:01\r\u001b[K     |█████▊                          | 276kB 5.4MB/s eta 0:00:01\r\u001b[K     |██████                          | 286kB 5.4MB/s eta 0:00:01\r\u001b[K     |██████▏                         | 296kB 5.4MB/s eta 0:00:01\r\u001b[K     |██████▍                         | 307kB 5.4MB/s eta 0:00:01\r\u001b[K     |██████▌                         | 317kB 5.4MB/s eta 0:00:01\r\u001b[K     |██████▊                         | 327kB 5.4MB/s eta 0:00:01\r\u001b[K     |███████                         | 337kB 5.4MB/s eta 0:00:01\r\u001b[K     |███████▏                        | 348kB 5.4MB/s eta 0:00:01\r\u001b[K     |███████▍                        | 358kB 5.4MB/s eta 0:00:01\r\u001b[K     |███████▋                        | 368kB 5.4MB/s eta 0:00:01\r\u001b[K     |███████▉                        | 378kB 5.4MB/s eta 0:00:01\r\u001b[K     |████████                        | 389kB 5.4MB/s eta 0:00:01\r\u001b[K     |████████▎                       | 399kB 5.4MB/s eta 0:00:01\r\u001b[K     |████████▌                       | 409kB 5.4MB/s eta 0:00:01\r\u001b[K     |████████▋                       | 419kB 5.4MB/s eta 0:00:01\r\u001b[K     |████████▉                       | 430kB 5.4MB/s eta 0:00:01\r\u001b[K     |█████████                       | 440kB 5.4MB/s eta 0:00:01\r\u001b[K     |█████████▎                      | 450kB 5.4MB/s eta 0:00:01\r\u001b[K     |█████████▌                      | 460kB 5.4MB/s eta 0:00:01\r\u001b[K     |█████████▊                      | 471kB 5.4MB/s eta 0:00:01\r\u001b[K     |██████████                      | 481kB 5.4MB/s eta 0:00:01\r\u001b[K     |██████████▏                     | 491kB 5.4MB/s eta 0:00:01\r\u001b[K     |██████████▍                     | 501kB 5.4MB/s eta 0:00:01\r\u001b[K     |██████████▋                     | 512kB 5.4MB/s eta 0:00:01\r\u001b[K     |██████████▊                     | 522kB 5.4MB/s eta 0:00:01\r\u001b[K     |███████████                     | 532kB 5.4MB/s eta 0:00:01\r\u001b[K     |███████████▏                    | 542kB 5.4MB/s eta 0:00:01\r\u001b[K     |███████████▍                    | 552kB 5.4MB/s eta 0:00:01\r\u001b[K     |███████████▋                    | 563kB 5.4MB/s eta 0:00:01\r\u001b[K     |███████████▉                    | 573kB 5.4MB/s eta 0:00:01\r\u001b[K     |████████████                    | 583kB 5.4MB/s eta 0:00:01\r\u001b[K     |████████████▎                   | 593kB 5.4MB/s eta 0:00:01\r\u001b[K     |████████████▌                   | 604kB 5.4MB/s eta 0:00:01\r\u001b[K     |████████████▊                   | 614kB 5.4MB/s eta 0:00:01\r\u001b[K     |████████████▉                   | 624kB 5.4MB/s eta 0:00:01\r\u001b[K     |█████████████                   | 634kB 5.4MB/s eta 0:00:01\r\u001b[K     |█████████████▎                  | 645kB 5.4MB/s eta 0:00:01\r\u001b[K     |█████████████▌                  | 655kB 5.4MB/s eta 0:00:01\r\u001b[K     |█████████████▊                  | 665kB 5.4MB/s eta 0:00:01\r\u001b[K     |██████████████                  | 675kB 5.4MB/s eta 0:00:01\r\u001b[K     |██████████████▏                 | 686kB 5.4MB/s eta 0:00:01\r\u001b[K     |██████████████▍                 | 696kB 5.4MB/s eta 0:00:01\r\u001b[K     |██████████████▋                 | 706kB 5.4MB/s eta 0:00:01\r\u001b[K     |██████████████▉                 | 716kB 5.4MB/s eta 0:00:01\r\u001b[K     |███████████████                 | 727kB 5.4MB/s eta 0:00:01\r\u001b[K     |███████████████▏                | 737kB 5.4MB/s eta 0:00:01\r\u001b[K     |███████████████▍                | 747kB 5.4MB/s eta 0:00:01\r\u001b[K     |███████████████▋                | 757kB 5.4MB/s eta 0:00:01\r\u001b[K     |███████████████▉                | 768kB 5.4MB/s eta 0:00:01\r\u001b[K     |████████████████                | 778kB 5.4MB/s eta 0:00:01\r\u001b[K     |████████████████▎               | 788kB 5.4MB/s eta 0:00:01\r\u001b[K     |████████████████▌               | 798kB 5.4MB/s eta 0:00:01\r\u001b[K     |████████████████▊               | 808kB 5.4MB/s eta 0:00:01\r\u001b[K     |█████████████████               | 819kB 5.4MB/s eta 0:00:01\r\u001b[K     |█████████████████               | 829kB 5.4MB/s eta 0:00:01\r\u001b[K     |█████████████████▎              | 839kB 5.4MB/s eta 0:00:01\r\u001b[K     |█████████████████▌              | 849kB 5.4MB/s eta 0:00:01\r\u001b[K     |█████████████████▊              | 860kB 5.4MB/s eta 0:00:01\r\u001b[K     |██████████████████              | 870kB 5.4MB/s eta 0:00:01\r\u001b[K     |██████████████████▏             | 880kB 5.4MB/s eta 0:00:01\r\u001b[K     |██████████████████▍             | 890kB 5.4MB/s eta 0:00:01\r\u001b[K     |██████████████████▋             | 901kB 5.4MB/s eta 0:00:01\r\u001b[K     |██████████████████▉             | 911kB 5.4MB/s eta 0:00:01\r\u001b[K     |███████████████████             | 921kB 5.4MB/s eta 0:00:01\r\u001b[K     |███████████████████▏            | 931kB 5.4MB/s eta 0:00:01\r\u001b[K     |███████████████████▍            | 942kB 5.4MB/s eta 0:00:01\r\u001b[K     |███████████████████▋            | 952kB 5.4MB/s eta 0:00:01\r\u001b[K     |███████████████████▉            | 962kB 5.4MB/s eta 0:00:01\r\u001b[K     |████████████████████            | 972kB 5.4MB/s eta 0:00:01\r\u001b[K     |████████████████████▎           | 983kB 5.4MB/s eta 0:00:01\r\u001b[K     |████████████████████▌           | 993kB 5.4MB/s eta 0:00:01\r\u001b[K     |████████████████████▊           | 1.0MB 5.4MB/s eta 0:00:01\r\u001b[K     |█████████████████████           | 1.0MB 5.4MB/s eta 0:00:01\r\u001b[K     |█████████████████████▏          | 1.0MB 5.4MB/s eta 0:00:01\r\u001b[K     |█████████████████████▎          | 1.0MB 5.4MB/s eta 0:00:01\r\u001b[K     |█████████████████████▌          | 1.0MB 5.4MB/s eta 0:00:01\r\u001b[K     |█████████████████████▊          | 1.1MB 5.4MB/s eta 0:00:01\r\u001b[K     |██████████████████████          | 1.1MB 5.4MB/s eta 0:00:01\r\u001b[K     |██████████████████████▏         | 1.1MB 5.4MB/s eta 0:00:01\r\u001b[K     |██████████████████████▍         | 1.1MB 5.4MB/s eta 0:00:01\r\u001b[K     |██████████████████████▋         | 1.1MB 5.4MB/s eta 0:00:01\r\u001b[K     |██████████████████████▉         | 1.1MB 5.4MB/s eta 0:00:01\r\u001b[K     |███████████████████████         | 1.1MB 5.4MB/s eta 0:00:01\r\u001b[K     |███████████████████████▎        | 1.1MB 5.4MB/s eta 0:00:01\r\u001b[K     |███████████████████████▍        | 1.1MB 5.4MB/s eta 0:00:01\r\u001b[K     |███████████████████████▋        | 1.1MB 5.4MB/s eta 0:00:01\r\u001b[K     |███████████████████████▉        | 1.2MB 5.4MB/s eta 0:00:01\r\u001b[K     |████████████████████████        | 1.2MB 5.4MB/s eta 0:00:01\r\u001b[K     |████████████████████████▎       | 1.2MB 5.4MB/s eta 0:00:01\r\u001b[K     |████████████████████████▌       | 1.2MB 5.4MB/s eta 0:00:01\r\u001b[K     |████████████████████████▊       | 1.2MB 5.4MB/s eta 0:00:01\r\u001b[K     |█████████████████████████       | 1.2MB 5.4MB/s eta 0:00:01\r\u001b[K     |█████████████████████████▏      | 1.2MB 5.4MB/s eta 0:00:01\r\u001b[K     |█████████████████████████▍      | 1.2MB 5.4MB/s eta 0:00:01\r\u001b[K     |█████████████████████████▌      | 1.2MB 5.4MB/s eta 0:00:01\r\u001b[K     |█████████████████████████▊      | 1.2MB 5.4MB/s eta 0:00:01\r\u001b[K     |██████████████████████████      | 1.3MB 5.4MB/s eta 0:00:01\r\u001b[K     |██████████████████████████▏     | 1.3MB 5.4MB/s eta 0:00:01\r\u001b[K     |██████████████████████████▍     | 1.3MB 5.4MB/s eta 0:00:01\r\u001b[K     |██████████████████████████▋     | 1.3MB 5.4MB/s eta 0:00:01\r\u001b[K     |██████████████████████████▉     | 1.3MB 5.4MB/s eta 0:00:01\r\u001b[K     |███████████████████████████     | 1.3MB 5.4MB/s eta 0:00:01\r\u001b[K     |███████████████████████████▎    | 1.3MB 5.4MB/s eta 0:00:01\r\u001b[K     |███████████████████████████▌    | 1.3MB 5.4MB/s eta 0:00:01\r\u001b[K     |███████████████████████████▋    | 1.3MB 5.4MB/s eta 0:00:01\r\u001b[K     |███████████████████████████▉    | 1.4MB 5.4MB/s eta 0:00:01\r\u001b[K     |████████████████████████████    | 1.4MB 5.4MB/s eta 0:00:01\r\u001b[K     |████████████████████████████▎   | 1.4MB 5.4MB/s eta 0:00:01\r\u001b[K     |████████████████████████████▌   | 1.4MB 5.4MB/s eta 0:00:01\r\u001b[K     |████████████████████████████▊   | 1.4MB 5.4MB/s eta 0:00:01\r\u001b[K     |█████████████████████████████   | 1.4MB 5.4MB/s eta 0:00:01\r\u001b[K     |█████████████████████████████▏  | 1.4MB 5.4MB/s eta 0:00:01\r\u001b[K     |█████████████████████████████▍  | 1.4MB 5.4MB/s eta 0:00:01\r\u001b[K     |█████████████████████████████▋  | 1.4MB 5.4MB/s eta 0:00:01\r\u001b[K     |█████████████████████████████▊  | 1.4MB 5.4MB/s eta 0:00:01\r\u001b[K     |██████████████████████████████  | 1.5MB 5.4MB/s eta 0:00:01\r\u001b[K     |██████████████████████████████▏ | 1.5MB 5.4MB/s eta 0:00:01\r\u001b[K     |██████████████████████████████▍ | 1.5MB 5.4MB/s eta 0:00:01\r\u001b[K     |██████████████████████████████▋ | 1.5MB 5.4MB/s eta 0:00:01\r\u001b[K     |██████████████████████████████▉ | 1.5MB 5.4MB/s eta 0:00:01\r\u001b[K     |███████████████████████████████ | 1.5MB 5.4MB/s eta 0:00:01\r\u001b[K     |███████████████████████████████▎| 1.5MB 5.4MB/s eta 0:00:01\r\u001b[K     |███████████████████████████████▌| 1.5MB 5.4MB/s eta 0:00:01\r\u001b[K     |███████████████████████████████▊| 1.5MB 5.4MB/s eta 0:00:01\r\u001b[K     |███████████████████████████████▉| 1.5MB 5.4MB/s eta 0:00:01\r\u001b[K     |████████████████████████████████| 1.6MB 5.4MB/s \n",
            "\u001b[?25h"
          ],
          "name": "stdout"
        }
      ]
    },
    {
      "cell_type": "code",
      "metadata": {
        "id": "XDkVYoGiITU4"
      },
      "source": [
        "import cirq\n",
        "import numpy as np\n",
        "from numpy.random import uniform\n",
        "from matplotlib import pyplot as plt "
      ],
      "execution_count": null,
      "outputs": []
    },
    {
      "cell_type": "code",
      "metadata": {
        "id": "lshKhkPUHXWe"
      },
      "source": [
        "def build_vqc(qubits, symbols):\n",
        "    (a, b) = qubits\n",
        "    circ = cirq.Circuit()\n",
        "    circ.append([cirq.H(b)], strategy=cirq.InsertStrategy.NEW_THEN_INLINE)\n",
        "    circ.append([cirq.rz(symbols[0])(a), cirq.rz(symbols[1])(b)], \n",
        "                strategy=cirq.InsertStrategy.NEW_THEN_INLINE)\n",
        "    circ.append([cirq.rx(symbols[2])(a), cirq.rx(symbols[3])(b)])\n",
        "    circ.append([cirq.CX(b, a)**symbols[4]])\n",
        "    return circ\n",
        "\n",
        "\n",
        "def build_vqc_no_ent(qubits, symbols):\n",
        "    (a, b) = qubits\n",
        "    circ = cirq.Circuit()\n",
        "    # Layer 1\n",
        "    circ.append([cirq.H(a), cirq.H(b)], strategy=cirq.InsertStrategy.NEW_THEN_INLINE)\n",
        "    circ.append([cirq.rz(symbols[0])(a), \n",
        "                 cirq.rz(symbols[1])(b)])\n",
        "    circ.append([cirq.rx(symbols[2])(a), \n",
        "                 cirq.rx(symbols[3])(b)])\n",
        "    # Layer 2\n",
        "    circ.append([cirq.H(a), cirq.H(b)], strategy=cirq.InsertStrategy.NEW_THEN_INLINE)\n",
        "    circ.append([cirq.rz(symbols[4])(a), \n",
        "                 cirq.rz(symbols[5])(b)])\n",
        "    circ.append([cirq.rx(symbols[6])(a), \n",
        "                 cirq.rx(symbols[7])(b)])\n",
        "    # Layer 3\n",
        "    circ.append([cirq.H(a), cirq.H(b)], strategy=cirq.InsertStrategy.NEW_THEN_INLINE)\n",
        "    circ.append([cirq.rz(symbols[8])(a), \n",
        "                 cirq.rz(symbols[9])(b)])\n",
        "    circ.append([cirq.rx(symbols[10])(a), \n",
        "                 cirq.rx(symbols[11])(b)])\n",
        "    return circ\n",
        "\n",
        "\n",
        "def trace_b(dens_mat):\n",
        "    return np.asarray([\n",
        "                       [dens_mat[0][0] + dens_mat[1][1], dens_mat[0][2] + dens_mat[1][3]],\n",
        "                       [dens_mat[2][0] + dens_mat[3][1], dens_mat[2][2] + dens_mat[3][3]]\n",
        "                      ]).reshape((2,2))\n",
        "\n",
        "def trace_a(dens_mat):\n",
        "    return np.asarray([\n",
        "                       [dens_mat[0][0] + dens_mat[2][2], dens_mat[0][1] + dens_mat[2][3]],\n",
        "                       [dens_mat[1][0] + dens_mat[3][2], dens_mat[1][1] + dens_mat[3][3]]\n",
        "                      ]).reshape((2,2))\n",
        "\n",
        "\n",
        "def calc_ent(vector):\n",
        "    dens_mat = cirq.density_matrix_from_state_vector(state_vector=vector)\n",
        "    avg = []\n",
        "    p_a = trace_b(dens_mat)\n",
        "    avg.append(1 - np.matrix.trace(np.linalg.matrix_power(p_a, 2)))\n",
        "    p_b = trace_a(dens_mat)\n",
        "    avg.append(1 - np.matrix.trace(np.linalg.matrix_power(p_b, 2)))\n",
        "    return np.sum(avg)\n",
        "\n",
        "\n",
        "def kl_divergence(p, q):\n",
        "    return np.sum(np.where(p != 0, p * np.log(p / q), 0))"
      ],
      "execution_count": null,
      "outputs": []
    },
    {
      "cell_type": "markdown",
      "metadata": {
        "id": "cTG7LKDw8_fc"
      },
      "source": [
        "### Display circuits"
      ]
    },
    {
      "cell_type": "code",
      "metadata": {
        "colab": {
          "base_uri": "https://localhost:8080/",
          "height": 121
        },
        "id": "CDyOxqpE9B5C",
        "outputId": "083523ee-9ae9-447e-dcbb-62889aad66d6"
      },
      "source": [
        "from cirq.contrib.svg import SVGCircuit\n",
        "\n",
        "angles = uniform(0, 2 * np.pi, size=4)\n",
        "pows = uniform(-2, 2, size=1)\n",
        "values_1 = np.concatenate((angles, pows))\n",
        "circuit_ent = build_vqc(qubits, values_1)\n",
        "SVGCircuit(circuit_ent)\n"
      ],
      "execution_count": null,
      "outputs": [
        {
          "output_type": "execute_result",
          "data": {
            "text/plain": [
              "<cirq.contrib.svg.svg.SVGCircuit at 0x7f7b053cc8d0>"
            ],
            "image/svg+xml": "<svg xmlns=\"http://www.w3.org/2000/svg\" width=\"468.22574218750003\" height=\"100.0\"><line x1=\"34.7588671875\" x2=\"438.22574218750003\" y1=\"25.0\" y2=\"25.0\" stroke=\"#1967d2\" stroke-width=\"1\" /><line x1=\"34.7588671875\" x2=\"438.22574218750003\" y1=\"75.0\" y2=\"75.0\" stroke=\"#1967d2\" stroke-width=\"1\" /><line x1=\"378.81759765625003\" x2=\"378.81759765625003\" y1=\"25.0\" y2=\"75.0\" stroke=\"black\" stroke-width=\"3\" /><rect x=\"10.0\" y=\"5.0\" width=\"49.517734375\" height=\"40\" stroke=\"black\" fill=\"white\" stroke-width=\"0\" /><text x=\"34.7588671875\" y=\"25.0\" dominant-baseline=\"middle\" text-anchor=\"middle\" font-size=\"14px\" font-family=\"Arial\">(0, 0): </text><rect x=\"10.0\" y=\"55.0\" width=\"49.517734375\" height=\"40\" stroke=\"black\" fill=\"white\" stroke-width=\"0\" /><text x=\"34.7588671875\" y=\"75.0\" dominant-baseline=\"middle\" text-anchor=\"middle\" font-size=\"14px\" font-family=\"Arial\">(0, 1): </text><rect x=\"79.517734375\" y=\"55.0\" width=\"40\" height=\"40\" stroke=\"black\" fill=\"white\" stroke-width=\"1\" /><text x=\"99.517734375\" y=\"75.0\" dominant-baseline=\"middle\" text-anchor=\"middle\" font-size=\"18px\" font-family=\"Arial\">H</text><rect x=\"139.517734375\" y=\"5.0\" width=\"83.93121093750001\" height=\"40\" stroke=\"black\" fill=\"white\" stroke-width=\"1\" /><text x=\"181.48333984375\" y=\"25.0\" dominant-baseline=\"middle\" text-anchor=\"middle\" font-size=\"14px\" font-family=\"Arial\">Rz(0.423π)</text><rect x=\"139.517734375\" y=\"55.0\" width=\"83.93121093750001\" height=\"40\" stroke=\"black\" fill=\"white\" stroke-width=\"1\" /><text x=\"181.48333984375\" y=\"75.0\" dominant-baseline=\"middle\" text-anchor=\"middle\" font-size=\"14px\" font-family=\"Arial\">Rz(1.49π)</text><rect x=\"243.44894531250006\" y=\"5.0\" width=\"75.96050781250001\" height=\"40\" stroke=\"black\" fill=\"white\" stroke-width=\"1\" /><text x=\"281.42919921875006\" y=\"25.0\" dominant-baseline=\"middle\" text-anchor=\"middle\" font-size=\"14px\" font-family=\"Arial\">Rx(0.25π)</text><rect x=\"243.44894531250006\" y=\"55.0\" width=\"75.96050781250001\" height=\"40\" stroke=\"black\" fill=\"white\" stroke-width=\"1\" /><text x=\"281.42919921875006\" y=\"75.0\" dominant-baseline=\"middle\" text-anchor=\"middle\" font-size=\"14px\" font-family=\"Arial\">Rx(1.55π)</text><rect x=\"339.409453125\" y=\"55.0\" width=\"78.8162890625\" height=\"40\" stroke=\"black\" fill=\"white\" stroke-width=\"1\" /><text x=\"378.81759765625003\" y=\"75.0\" dominant-baseline=\"middle\" text-anchor=\"middle\" font-size=\"14px\" font-family=\"Arial\">@^-0.893</text><rect x=\"339.409453125\" y=\"5.0\" width=\"78.8162890625\" height=\"40\" stroke=\"black\" fill=\"white\" stroke-width=\"1\" /><text x=\"378.81759765625003\" y=\"25.0\" dominant-baseline=\"middle\" text-anchor=\"middle\" font-size=\"18px\" font-family=\"Arial\">X</text></svg>"
          },
          "metadata": {
            "tags": []
          },
          "execution_count": 137
        }
      ]
    },
    {
      "cell_type": "code",
      "metadata": {
        "colab": {
          "base_uri": "https://localhost:8080/",
          "height": 121
        },
        "id": "RUrTOG1X9n9W",
        "outputId": "a0c778ff-d29a-4360-a711-d484afb651f7"
      },
      "source": [
        "values = uniform(0, 2 * np.pi, size=12)\n",
        "circuit_no_ent = build_vqc_no_ent(qubits, values)\n",
        "SVGCircuit(circuit_no_ent)"
      ],
      "execution_count": null,
      "outputs": [
        {
          "output_type": "execute_result",
          "data": {
            "text/plain": [
              "<cirq.contrib.svg.svg.SVGCircuit at 0x7f7b14ceecf8>"
            ],
            "image/svg+xml": "<svg xmlns=\"http://www.w3.org/2000/svg\" width=\"889.1928906250001\" height=\"100.0\"><line x1=\"34.7588671875\" x2=\"859.1928906250001\" y1=\"25.0\" y2=\"25.0\" stroke=\"#1967d2\" stroke-width=\"1\" /><line x1=\"34.7588671875\" x2=\"859.1928906250001\" y1=\"75.0\" y2=\"75.0\" stroke=\"#1967d2\" stroke-width=\"1\" /><rect x=\"10.0\" y=\"5.0\" width=\"49.517734375\" height=\"40\" stroke=\"black\" fill=\"white\" stroke-width=\"0\" /><text x=\"34.7588671875\" y=\"25.0\" dominant-baseline=\"middle\" text-anchor=\"middle\" font-size=\"14px\" font-family=\"Arial\">(0, 0): </text><rect x=\"10.0\" y=\"55.0\" width=\"49.517734375\" height=\"40\" stroke=\"black\" fill=\"white\" stroke-width=\"0\" /><text x=\"34.7588671875\" y=\"75.0\" dominant-baseline=\"middle\" text-anchor=\"middle\" font-size=\"14px\" font-family=\"Arial\">(0, 1): </text><rect x=\"79.517734375\" y=\"5.0\" width=\"40\" height=\"40\" stroke=\"black\" fill=\"white\" stroke-width=\"1\" /><text x=\"99.517734375\" y=\"25.0\" dominant-baseline=\"middle\" text-anchor=\"middle\" font-size=\"18px\" font-family=\"Arial\">H</text><rect x=\"79.517734375\" y=\"55.0\" width=\"40\" height=\"40\" stroke=\"black\" fill=\"white\" stroke-width=\"1\" /><text x=\"99.517734375\" y=\"75.0\" dominant-baseline=\"middle\" text-anchor=\"middle\" font-size=\"18px\" font-family=\"Arial\">H</text><rect x=\"139.517734375\" y=\"5.0\" width=\"75.02398437500001\" height=\"40\" stroke=\"black\" fill=\"white\" stroke-width=\"1\" /><text x=\"177.0297265625\" y=\"25.0\" dominant-baseline=\"middle\" text-anchor=\"middle\" font-size=\"14px\" font-family=\"Arial\">Rz(1.14π)</text><rect x=\"139.517734375\" y=\"55.0\" width=\"75.02398437500001\" height=\"40\" stroke=\"black\" fill=\"white\" stroke-width=\"1\" /><text x=\"177.0297265625\" y=\"75.0\" dominant-baseline=\"middle\" text-anchor=\"middle\" font-size=\"14px\" font-family=\"Arial\">Rz(1.08π)</text><rect x=\"234.54171875000006\" y=\"5.0\" width=\"84.86773437500001\" height=\"40\" stroke=\"black\" fill=\"white\" stroke-width=\"1\" /><text x=\"276.97558593750006\" y=\"25.0\" dominant-baseline=\"middle\" text-anchor=\"middle\" font-size=\"14px\" font-family=\"Arial\">Rx(0.144π)</text><rect x=\"234.54171875000006\" y=\"55.0\" width=\"84.86773437500001\" height=\"40\" stroke=\"black\" fill=\"white\" stroke-width=\"1\" /><text x=\"276.97558593750006\" y=\"75.0\" dominant-baseline=\"middle\" text-anchor=\"middle\" font-size=\"14px\" font-family=\"Arial\">Rx(0.029π)</text><rect x=\"339.409453125\" y=\"5.0\" width=\"40\" height=\"40\" stroke=\"black\" fill=\"white\" stroke-width=\"1\" /><text x=\"359.409453125\" y=\"25.0\" dominant-baseline=\"middle\" text-anchor=\"middle\" font-size=\"18px\" font-family=\"Arial\">H</text><rect x=\"339.409453125\" y=\"55.0\" width=\"40\" height=\"40\" stroke=\"black\" fill=\"white\" stroke-width=\"1\" /><text x=\"359.409453125\" y=\"75.0\" dominant-baseline=\"middle\" text-anchor=\"middle\" font-size=\"18px\" font-family=\"Arial\">H</text><rect x=\"399.409453125\" y=\"5.0\" width=\"83.93121093750001\" height=\"40\" stroke=\"black\" fill=\"white\" stroke-width=\"1\" /><text x=\"441.37505859375005\" y=\"25.0\" dominant-baseline=\"middle\" text-anchor=\"middle\" font-size=\"14px\" font-family=\"Arial\">Rz(1.76π)</text><rect x=\"399.409453125\" y=\"55.0\" width=\"83.93121093750001\" height=\"40\" stroke=\"black\" fill=\"white\" stroke-width=\"1\" /><text x=\"441.37505859375005\" y=\"75.0\" dominant-baseline=\"middle\" text-anchor=\"middle\" font-size=\"14px\" font-family=\"Arial\">Rz(0.981π)</text><rect x=\"503.34066406249997\" y=\"5.0\" width=\"75.96050781250001\" height=\"40\" stroke=\"black\" fill=\"white\" stroke-width=\"1\" /><text x=\"541.32091796875\" y=\"25.0\" dominant-baseline=\"middle\" text-anchor=\"middle\" font-size=\"14px\" font-family=\"Arial\">Rx(1.25π)</text><rect x=\"503.34066406249997\" y=\"55.0\" width=\"75.96050781250001\" height=\"40\" stroke=\"black\" fill=\"white\" stroke-width=\"1\" /><text x=\"541.32091796875\" y=\"75.0\" dominant-baseline=\"middle\" text-anchor=\"middle\" font-size=\"14px\" font-family=\"Arial\">Rx(1.66π)</text><rect x=\"599.301171875\" y=\"5.0\" width=\"40\" height=\"40\" stroke=\"black\" fill=\"white\" stroke-width=\"1\" /><text x=\"619.301171875\" y=\"25.0\" dominant-baseline=\"middle\" text-anchor=\"middle\" font-size=\"18px\" font-family=\"Arial\">H</text><rect x=\"599.301171875\" y=\"55.0\" width=\"40\" height=\"40\" stroke=\"black\" fill=\"white\" stroke-width=\"1\" /><text x=\"619.301171875\" y=\"75.0\" dominant-baseline=\"middle\" text-anchor=\"middle\" font-size=\"18px\" font-family=\"Arial\">H</text><rect x=\"659.301171875\" y=\"5.0\" width=\"75.02398437500001\" height=\"40\" stroke=\"black\" fill=\"white\" stroke-width=\"1\" /><text x=\"696.8131640625\" y=\"25.0\" dominant-baseline=\"middle\" text-anchor=\"middle\" font-size=\"14px\" font-family=\"Arial\">Rz(1.25π)</text><rect x=\"659.301171875\" y=\"55.0\" width=\"75.02398437500001\" height=\"40\" stroke=\"black\" fill=\"white\" stroke-width=\"1\" /><text x=\"696.8131640625\" y=\"75.0\" dominant-baseline=\"middle\" text-anchor=\"middle\" font-size=\"14px\" font-family=\"Arial\">Rz(1.57π)</text><rect x=\"754.3251562500001\" y=\"5.0\" width=\"84.86773437500001\" height=\"40\" stroke=\"black\" fill=\"white\" stroke-width=\"1\" /><text x=\"796.7590234375001\" y=\"25.0\" dominant-baseline=\"middle\" text-anchor=\"middle\" font-size=\"14px\" font-family=\"Arial\">Rx(1.59π)</text><rect x=\"754.3251562500001\" y=\"55.0\" width=\"84.86773437500001\" height=\"40\" stroke=\"black\" fill=\"white\" stroke-width=\"1\" /><text x=\"796.7590234375001\" y=\"75.0\" dominant-baseline=\"middle\" text-anchor=\"middle\" font-size=\"14px\" font-family=\"Arial\">Rx(0.643π)</text></svg>"
          },
          "metadata": {
            "tags": []
          },
          "execution_count": 140
        }
      ]
    },
    {
      "cell_type": "markdown",
      "metadata": {
        "id": "efGkj9Tm5pdf"
      },
      "source": [
        "### Entangling circuit"
      ]
    },
    {
      "cell_type": "code",
      "metadata": {
        "colab": {
          "base_uri": "https://localhost:8080/",
          "height": 649
        },
        "id": "cD2bIh9BIQ4d",
        "outputId": "c15fbc8f-b296-4670-9874-54612f351d4d"
      },
      "source": [
        "a, b = cirq.GridQubit.rect(1, 2)\n",
        "qubits = (a, b)\n",
        "s = cirq.Simulator()\n",
        "NUM_TRIALS = 5000\n",
        "FIDELITIES = []\n",
        "ENT = []\n",
        "\n",
        "for t in range(NUM_TRIALS):\n",
        "    angles_1 = uniform(0, 2 * np.pi, size=4)\n",
        "    pows_1 = uniform(-2, 2, size=1)\n",
        "    values_1 = np.concatenate((angles_1, pows_1))\n",
        "    circuit_1 = build_vqc(qubits, values_1)\n",
        "    fin_vec_1 = s.simulate(circuit_1).final_state_vector\n",
        "\n",
        "    angles_2 = uniform(0, 2 * np.pi, size=4)\n",
        "    pows_2 = uniform(-2, 2, size=1)\n",
        "    values_2 = np.concatenate((angles_2, pows_2))\n",
        "    circuit_2 = build_vqc(qubits, values_2)\n",
        "    fin_vec_2 = s.simulate(circuit_2).final_state_vector\n",
        "\n",
        "    fid = cirq.fidelity(fin_vec_1, fin_vec_2)\n",
        "    FIDELITIES.append(fid)\n",
        "\n",
        "    ENT.append(calc_ent(fin_vec_1))\n",
        "    ENT.append(calc_ent(fin_vec_2))\n",
        "\n",
        "### Histogram of fidelities\n",
        "\n",
        "n, bins, _ = plt.hist(FIDELITIES, bins=np.linspace(0, 1, num=100)) \n",
        "plt.title(\"fidelities\") \n",
        "plt.show()\n",
        "\n",
        "### Normalize and compare to theoretical\n",
        "\n",
        "bin_centers = np.array([(bins[i] + bins[i+1])/2 for i in range(len(bins) - 1)])\n",
        "haar = 3 * (1 - bin_centers)**2\n",
        "\n",
        "norm_n = n / np.sum(n)\n",
        "norm_haar = haar / np.sum(haar)\n",
        "\n",
        "kl = kl_divergence(norm_n, norm_haar)\n",
        "\n",
        "plt.title(f\"KL = {round(kl, 3)}\")\n",
        "plt.bar(bin_centers, n / np.sum(n), width=0.011)\n",
        "plt.plot(bin_centers, haar / np.sum(haar), c='r')\n",
        "\n",
        "plt.show()\n",
        "\n",
        "### Calculate entangling capability\n",
        "\n",
        "avg_ent_cap = np.mean(ENT)\n",
        "print(f\"\\n\\n\\nAverage entangling capability = {round(avg_ent_cap.real, 3)}\")"
      ],
      "execution_count": null,
      "outputs": [
        {
          "output_type": "display_data",
          "data": {
            "image/png": "[encoded data removed]",
            "text/plain": [
              "<Figure size 432x288 with 1 Axes>"
            ]
          },
          "metadata": {
            "tags": [],
            "needs_background": "light"
          }
        },
        {
          "output_type": "stream",
          "text": [
            "/usr/local/lib/python3.6/dist-packages/ipykernel_launcher.py:74: RuntimeWarning: divide by zero encountered in log\n",
            "/usr/local/lib/python3.6/dist-packages/ipykernel_launcher.py:74: RuntimeWarning: invalid value encountered in multiply\n"
          ],
          "name": "stderr"
        },
        {
          "output_type": "display_data",
          "data": {
            "image/png": "[encoded data removed]",
            "text/plain": [
              "<Figure size 432x288 with 1 Axes>"
            ]
          },
          "metadata": {
            "tags": [],
            "needs_background": "light"
          }
        },
        {
          "output_type": "stream",
          "text": [
            "\n",
            "\n",
            "\n",
            "Average entangling capability = 0.377\n"
          ],
          "name": "stdout"
        }
      ]
    },
    {
      "cell_type": "markdown",
      "metadata": {
        "id": "iJWOFIpW6Zle"
      },
      "source": [
        "### Non-entangling circuit"
      ]
    },
    {
      "cell_type": "code",
      "metadata": {
        "colab": {
          "base_uri": "https://localhost:8080/",
          "height": 649
        },
        "id": "C0HOIWFkRbOL",
        "outputId": "67f179ad-defe-4176-a720-1e886f71bcc2"
      },
      "source": [
        "a, b = cirq.GridQubit.rect(1, 2)\n",
        "qubits = (a, b)\n",
        "s = cirq.Simulator()\n",
        "NUM_TRIALS = 5000\n",
        "FIDELITIES = []\n",
        "ENT = []\n",
        "\n",
        "for t in range(NUM_TRIALS):\n",
        "    angles_1 = uniform(0, 2 * np.pi, size=12)\n",
        "    circuit_1 = build_vqc_no_ent(qubits, angles_1)\n",
        "    fin_vec_1 = s.simulate(circuit_1).final_state_vector\n",
        "\n",
        "    angles_2 = uniform(0, 2 * np.pi, size=12)\n",
        "    circuit_2 = build_vqc_no_ent(qubits, angles_2)\n",
        "    fin_vec_2 = s.simulate(circuit_2).final_state_vector\n",
        "\n",
        "    fid = cirq.fidelity(fin_vec_1, fin_vec_2)\n",
        "    FIDELITIES.append(fid)\n",
        "\n",
        "    ENT.append(calc_ent(fin_vec_1))\n",
        "    ENT.append(calc_ent(fin_vec_2))\n",
        "\n",
        "### Histogram of fidelities\n",
        "\n",
        "n, bins, _ = plt.hist(FIDELITIES, bins=np.linspace(0, 1, num=100)) \n",
        "plt.title(\"fidelities\") \n",
        "plt.show()\n",
        "\n",
        "### Normalize and compare to theoretical\n",
        "\n",
        "bin_centers = np.array([(bins[i] + bins[i+1])/2 for i in range(len(bins) - 1)])\n",
        "haar = 3 * (1 - bin_centers)**2\n",
        "\n",
        "norm_n = n / np.sum(n)\n",
        "norm_haar = haar / np.sum(haar)\n",
        "\n",
        "kl = kl_divergence(norm_n, norm_haar)\n",
        "\n",
        "plt.title(f\"KL = {round(kl, 3)}\")\n",
        "plt.bar(bin_centers, n / np.sum(n), width=0.011, color='g')\n",
        "plt.plot(bin_centers, haar / np.sum(haar), c='r')\n",
        "\n",
        "plt.show()\n",
        "\n",
        "### Calculate entangling capability\n",
        "\n",
        "avg_ent_cap = np.mean(ENT)\n",
        "print(f\"\\n\\n\\nAverage entangling capability = {round(avg_ent_cap.real, 3)}\")"
      ],
      "execution_count": null,
      "outputs": [
        {
          "output_type": "display_data",
          "data": {
            "image/png": "[encoded data removed]",
            "text/plain": [
              "<Figure size 432x288 with 1 Axes>"
            ]
          },
          "metadata": {
            "tags": [],
            "needs_background": "light"
          }
        },
        {
          "output_type": "stream",
          "text": [
            "/usr/local/lib/python3.6/dist-packages/ipykernel_launcher.py:74: RuntimeWarning: divide by zero encountered in log\n",
            "/usr/local/lib/python3.6/dist-packages/ipykernel_launcher.py:74: RuntimeWarning: invalid value encountered in multiply\n"
          ],
          "name": "stderr"
        },
        {
          "output_type": "display_data",
          "data": {
            "image/png": "[encoded data removed]",
            "text/plain": [
              "<Figure size 432x288 with 1 Axes>"
            ]
          },
          "metadata": {
            "tags": [],
            "needs_background": "light"
          }
        },
        {
          "output_type": "stream",
          "text": [
            "\n",
            "\n",
            "\n",
            "Average entangling capability = 0.0\n"
          ],
          "name": "stdout"
        }
      ]
    },
    {
      "cell_type": "code",
      "metadata": {
        "id": "MwKA-S1D66W4"
      },
      "source": [
        ""
      ],
      "execution_count": null,
      "outputs": []
    }
  ]
}